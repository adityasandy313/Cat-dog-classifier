{
 "cells": [
  {
   "cell_type": "code",
   "execution_count": 1,
   "metadata": {},
   "outputs": [],
   "source": [
    "import pandas as pd\n",
    "import numpy as np\n",
    "import seaborn as sn\n",
    "import matplotlib.pyplot as plt"
   ]
  },
  {
   "cell_type": "code",
   "execution_count": 2,
   "metadata": {},
   "outputs": [],
   "source": [
    "import tensorflow as tf\n",
    "from tensorflow import keras"
   ]
  },
  {
   "cell_type": "code",
   "execution_count": 3,
   "metadata": {},
   "outputs": [],
   "source": [
    "train_dir=r\"C:\\Users\\ADITYA SANDILYA\\Documents\\ML\\projects\\cats_and_dogs_small\\train\"\n",
    "test_dir=r\"C:\\Users\\ADITYA SANDILYA\\Documents\\ML\\projects\\cats_and_dogs_small\\test\"\n",
    "valid_dir=r\"C:\\Users\\ADITYA SANDILYA\\Documents\\ML\\projects\\cats_and_dogs_small\\validation\""
   ]
  },
  {
   "cell_type": "code",
   "execution_count": 4,
   "metadata": {},
   "outputs": [],
   "source": [
    "from tensorflow.keras.preprocessing.image import ImageDataGenerator\n"
   ]
  },
  {
   "cell_type": "code",
   "execution_count": 5,
   "metadata": {},
   "outputs": [
    {
     "name": "stdout",
     "output_type": "stream",
     "text": [
      "Found 2000 images belonging to 2 classes.\n",
      "Found 1000 images belonging to 2 classes.\n"
     ]
    }
   ],
   "source": [
    "train_datagen=ImageDataGenerator(rescale=1./255)\n",
    "test_datagen=ImageDataGenerator(rescale=1./255)\n",
    "train_generator=train_datagen.flow_from_directory(train_dir,target_size=(150,150),batch_size=20,class_mode=\"binary\")\n",
    "valid_generator=test_datagen.flow_from_directory(valid_dir,target_size=(150,150),batch_size=20,class_mode=\"binary\")"
   ]
  },
  {
   "cell_type": "code",
   "execution_count": 8,
   "metadata": {},
   "outputs": [],
   "source": [
    "#build\n",
    "from tensorflow.keras import models\n",
    "from tensorflow.keras import layers"
   ]
  },
  {
   "cell_type": "code",
   "execution_count": 7,
   "metadata": {},
   "outputs": [],
   "source": [
    "model=keras.models.Sequential()\n",
    "model.add(layers.Conv2D(32,(3,3),activation=\"relu\",input_shape=(150,150,3)))\n",
    "model.add(layers.MaxPooling2D((2,2)))\n",
    "model.add(layers.Conv2D(64,(3,3),activation=\"relu\"))\n",
    "model.add(layers.MaxPooling2D((2,2)))\n",
    "model.add(layers.Conv2D(128,(3,3),activation=\"relu\"))\n",
    "model.add(layers.MaxPooling2D((2,2)))\n",
    "model.add(layers.Conv2D(128,(3,3),activation=\"relu\"))\n",
    "model.add(layers.MaxPooling2D(2,2))\n",
    "model.add(layers.Flatten())\n",
    "model.add(layers.Dense(512,activation=\"relu\"))\n",
    "model.add(layers.Dense(1,activation=\"sigmoid\"))"
   ]
  },
  {
   "cell_type": "code",
   "execution_count": 8,
   "metadata": {},
   "outputs": [
    {
     "name": "stdout",
     "output_type": "stream",
     "text": [
      "Model: \"sequential\"\n",
      "_________________________________________________________________\n",
      " Layer (type)                Output Shape              Param #   \n",
      "=================================================================\n",
      " conv2d (Conv2D)             (None, 148, 148, 32)      896       \n",
      "                                                                 \n",
      " max_pooling2d (MaxPooling2D  (None, 74, 74, 32)       0         \n",
      " )                                                               \n",
      "                                                                 \n",
      " conv2d_1 (Conv2D)           (None, 72, 72, 64)        18496     \n",
      "                                                                 \n",
      " max_pooling2d_1 (MaxPooling  (None, 36, 36, 64)       0         \n",
      " 2D)                                                             \n",
      "                                                                 \n",
      " conv2d_2 (Conv2D)           (None, 34, 34, 128)       73856     \n",
      "                                                                 \n",
      " max_pooling2d_2 (MaxPooling  (None, 17, 17, 128)      0         \n",
      " 2D)                                                             \n",
      "                                                                 \n",
      " conv2d_3 (Conv2D)           (None, 15, 15, 128)       147584    \n",
      "                                                                 \n",
      " max_pooling2d_3 (MaxPooling  (None, 7, 7, 128)        0         \n",
      " 2D)                                                             \n",
      "                                                                 \n",
      " flatten (Flatten)           (None, 6272)              0         \n",
      "                                                                 \n",
      " dense (Dense)               (None, 512)               3211776   \n",
      "                                                                 \n",
      " dense_1 (Dense)             (None, 1)                 513       \n",
      "                                                                 \n",
      "=================================================================\n",
      "Total params: 3,453,121\n",
      "Trainable params: 3,453,121\n",
      "Non-trainable params: 0\n",
      "_________________________________________________________________\n"
     ]
    }
   ],
   "source": [
    "model.summary()"
   ]
  },
  {
   "cell_type": "code",
   "execution_count": 9,
   "metadata": {},
   "outputs": [],
   "source": [
    "from tensorflow.keras import optimizers\n",
    "model.compile(loss=\"binary_crossentropy\",optimizer=optimizers.RMSprop(learning_rate=1e-4),metrics=[\"acc\"])"
   ]
  },
  {
   "cell_type": "code",
   "execution_count": 23,
   "metadata": {},
   "outputs": [
    {
     "name": "stdout",
     "output_type": "stream",
     "text": [
      "Epoch 1/20\n"
     ]
    },
    {
     "name": "stderr",
     "output_type": "stream",
     "text": [
      "C:\\Users\\ADITYA~1\\AppData\\Local\\Temp/ipykernel_8052/3192977576.py:1: UserWarning: `Model.fit_generator` is deprecated and will be removed in a future version. Please use `Model.fit`, which supports generators.\n",
      "  model_history=model.fit_generator(train_generator,steps_per_epoch=100,epochs=20,validation_data=valid_generator,validation_steps=50)\n"
     ]
    },
    {
     "name": "stdout",
     "output_type": "stream",
     "text": [
      "100/100 [==============================] - 59s 584ms/step - loss: 0.6925 - acc: 0.5135 - val_loss: 0.6761 - val_acc: 0.5330\n",
      "Epoch 2/20\n",
      "100/100 [==============================] - 52s 517ms/step - loss: 0.6567 - acc: 0.6040 - val_loss: 0.6487 - val_acc: 0.6460\n",
      "Epoch 3/20\n",
      "100/100 [==============================] - 53s 526ms/step - loss: 0.6253 - acc: 0.6440 - val_loss: 0.6188 - val_acc: 0.6720\n",
      "Epoch 4/20\n",
      "100/100 [==============================] - 55s 548ms/step - loss: 0.5780 - acc: 0.6945 - val_loss: 0.6047 - val_acc: 0.6710\n",
      "Epoch 5/20\n",
      "100/100 [==============================] - 54s 538ms/step - loss: 0.5429 - acc: 0.7355 - val_loss: 0.6118 - val_acc: 0.6620\n",
      "Epoch 6/20\n",
      "100/100 [==============================] - 51s 512ms/step - loss: 0.5107 - acc: 0.7460 - val_loss: 0.6229 - val_acc: 0.6580\n",
      "Epoch 7/20\n",
      "100/100 [==============================] - 51s 512ms/step - loss: 0.4825 - acc: 0.7640 - val_loss: 0.5752 - val_acc: 0.7000\n",
      "Epoch 8/20\n",
      "100/100 [==============================] - 48s 482ms/step - loss: 0.4554 - acc: 0.7800 - val_loss: 0.5745 - val_acc: 0.6990\n",
      "Epoch 9/20\n",
      "100/100 [==============================] - 44s 444ms/step - loss: 0.4302 - acc: 0.8040 - val_loss: 0.5629 - val_acc: 0.7020\n",
      "Epoch 10/20\n",
      "100/100 [==============================] - 48s 480ms/step - loss: 0.3969 - acc: 0.8205 - val_loss: 0.5752 - val_acc: 0.7240\n",
      "Epoch 11/20\n",
      "100/100 [==============================] - 52s 520ms/step - loss: 0.3688 - acc: 0.8460 - val_loss: 0.5831 - val_acc: 0.7070\n",
      "Epoch 12/20\n",
      "100/100 [==============================] - 52s 517ms/step - loss: 0.3494 - acc: 0.8445 - val_loss: 0.6134 - val_acc: 0.7070\n",
      "Epoch 13/20\n",
      "100/100 [==============================] - 52s 515ms/step - loss: 0.3245 - acc: 0.8660 - val_loss: 0.5857 - val_acc: 0.7140\n",
      "Epoch 14/20\n",
      "100/100 [==============================] - 51s 511ms/step - loss: 0.3016 - acc: 0.8685 - val_loss: 0.6097 - val_acc: 0.7130\n",
      "Epoch 15/20\n",
      "100/100 [==============================] - 51s 514ms/step - loss: 0.2710 - acc: 0.8875 - val_loss: 0.6261 - val_acc: 0.7250\n",
      "Epoch 16/20\n",
      "100/100 [==============================] - 52s 516ms/step - loss: 0.2513 - acc: 0.8990 - val_loss: 0.6563 - val_acc: 0.7120\n",
      "Epoch 17/20\n",
      "100/100 [==============================] - 52s 516ms/step - loss: 0.2207 - acc: 0.9070 - val_loss: 0.6214 - val_acc: 0.7330\n",
      "Epoch 18/20\n",
      "100/100 [==============================] - 51s 513ms/step - loss: 0.1939 - acc: 0.9315 - val_loss: 0.6836 - val_acc: 0.7260\n",
      "Epoch 19/20\n",
      "100/100 [==============================] - 51s 513ms/step - loss: 0.1882 - acc: 0.9300 - val_loss: 0.6985 - val_acc: 0.7260\n",
      "Epoch 20/20\n",
      "100/100 [==============================] - 52s 524ms/step - loss: 0.1623 - acc: 0.9440 - val_loss: 0.7001 - val_acc: 0.7190\n"
     ]
    }
   ],
   "source": [
    "model_history=model.fit_generator(train_generator,steps_per_epoch=100,epochs=20,validation_data=valid_generator,validation_steps=50)"
   ]
  },
  {
   "cell_type": "code",
   "execution_count": 24,
   "metadata": {},
   "outputs": [],
   "source": [
    "model.save(\"model.h5\")"
   ]
  },
  {
   "cell_type": "code",
   "execution_count": 25,
   "metadata": {},
   "outputs": [
    {
     "data": {
      "image/png": "[encoded data removed]",
      "text/plain": [
       "<Figure size 576x360 with 1 Axes>"
      ]
     },
     "metadata": {
      "needs_background": "light"
     },
     "output_type": "display_data"
    }
   ],
   "source": [
    "pd.DataFrame(model_history.history).plot(figsize=(8,5))\n",
    "plt.grid(True)\n",
    "plt.gca().set_ylim(0,1)\n",
    "plt.show()"
   ]
  },
  {
   "cell_type": "code",
   "execution_count": 24,
   "metadata": {},
   "outputs": [],
   "source": [
    "from keras import backend as k\n",
    "k.clear_session()"
   ]
  },
  {
   "cell_type": "code",
   "execution_count": null,
   "metadata": {},
   "outputs": [],
   "source": [
    "#Data_Augmentation\n"
   ]
  },
  {
   "cell_type": "code",
   "execution_count": 22,
   "metadata": {},
   "outputs": [],
   "source": [
    "model=models.load_model('model.h5')"
   ]
  },
  {
   "cell_type": "code",
   "execution_count": 5,
   "metadata": {},
   "outputs": [
    {
     "ename": "NameError",
     "evalue": "name 'model' is not defined",
     "output_type": "error",
     "traceback": [
      "\u001b[1;31m---------------------------------------------------------------------------\u001b[0m",
      "\u001b[1;31mNameError\u001b[0m                                 Traceback (most recent call last)",
      "\u001b[1;32mC:\\Users\\ADITYA~1\\AppData\\Local\\Temp/ipykernel_8764/1983490010.py\u001b[0m in \u001b[0;36m<module>\u001b[1;34m\u001b[0m\n\u001b[1;32m----> 1\u001b[1;33m \u001b[1;32mdel\u001b[0m \u001b[0mmodel\u001b[0m\u001b[1;33m\u001b[0m\u001b[1;33m\u001b[0m\u001b[0m\n\u001b[0m\u001b[0;32m      2\u001b[0m \u001b[0mk\u001b[0m\u001b[1;33m.\u001b[0m\u001b[0mclear_session\u001b[0m\u001b[1;33m(\u001b[0m\u001b[1;33m)\u001b[0m\u001b[1;33m\u001b[0m\u001b[1;33m\u001b[0m\u001b[0m\n",
      "\u001b[1;31mNameError\u001b[0m: name 'model' is not defined"
     ]
    }
   ],
   "source": [
    "del model\n",
    "k.clear_session()"
   ]
  },
  {
   "cell_type": "code",
   "execution_count": 34,
   "metadata": {},
   "outputs": [
    {
     "name": "stdout",
     "output_type": "stream",
     "text": [
      "Found 2000 images belonging to 2 classes.\n",
      "Found 1000 images belonging to 2 classes.\n",
      "Found 1000 images belonging to 2 classes.\n"
     ]
    }
   ],
   "source": [
    "train_datagen=ImageDataGenerator(rescale=1./255,rotation_range=40,shear_range=0.2,zoom_range=0.2,width_shift_range=0.2,height_shift_range=0.2,horizontal_flip=True)\n",
    "test_datagen=ImageDataGenerator(rescale=1./255)\n",
    "train_generator=train_datagen.flow_from_directory(train_dir,target_size=(150,150),batch_size=20,class_mode=\"binary\")\n",
    "valid_generator=test_datagen.flow_from_directory(valid_dir,target_size=(150,150),batch_size=20,class_mode=\"binary\")\n",
    "test_generator=test_datagen.flow_from_directory(test_dir,target_size=(150,150),batch_size=20,class_mode=\"binary\")"
   ]
  },
  {
   "cell_type": "code",
   "execution_count": 14,
   "metadata": {},
   "outputs": [],
   "source": [
    "model=keras.models.Sequential()\n",
    "model.add(layers.Conv2D(32,(3,3),activation=\"relu\",input_shape=(150,150,3)))\n",
    "model.add(layers.MaxPooling2D((2,2)))\n",
    "model.add(layers.Conv2D(64,(3,3),activation=\"relu\"))\n",
    "model.add(layers.MaxPooling2D((2,2)))\n",
    "model.add(layers.Conv2D(128,(3,3),activation=\"relu\"))\n",
    "model.add(layers.MaxPooling2D((2,2)))\n",
    "model.add(layers.Conv2D(128,(3,3),activation=\"relu\"))\n",
    "model.add(layers.MaxPooling2D(2,2))\n",
    "model.add(layers.Flatten())\n",
    "model.add(layers.Dense(512,activation=\"relu\"))\n",
    "model.add(layers.Dense(1,activation=\"sigmoid\"))"
   ]
  },
  {
   "cell_type": "code",
   "execution_count": 15,
   "metadata": {},
   "outputs": [],
   "source": [
    "model.compile(loss=\"binary_crossentropy\",optimizer=keras.optimizers.RMSprop(learning_rate=1e-4),metrics=[\"acc\"])"
   ]
  },
  {
   "cell_type": "code",
   "execution_count": 16,
   "metadata": {},
   "outputs": [
    {
     "name": "stderr",
     "output_type": "stream",
     "text": [
      "C:\\Users\\ADITYA~1\\AppData\\Local\\Temp/ipykernel_8764/3192977576.py:1: UserWarning: `Model.fit_generator` is deprecated and will be removed in a future version. Please use `Model.fit`, which supports generators.\n",
      "  model_history=model.fit_generator(train_generator,steps_per_epoch=100,epochs=20,validation_data=valid_generator,validation_steps=50)\n"
     ]
    },
    {
     "name": "stdout",
     "output_type": "stream",
     "text": [
      "Epoch 1/20\n",
      "100/100 [==============================] - 114s 1s/step - loss: 0.6937 - acc: 0.5160 - val_loss: 0.6825 - val_acc: 0.5050\n",
      "Epoch 2/20\n",
      "100/100 [==============================] - 112s 1s/step - loss: 0.6810 - acc: 0.5615 - val_loss: 0.6635 - val_acc: 0.5710\n",
      "Epoch 3/20\n",
      "100/100 [==============================] - 101s 1s/step - loss: 0.6732 - acc: 0.5785 - val_loss: 0.6446 - val_acc: 0.6270\n",
      "Epoch 4/20\n",
      "100/100 [==============================] - 99s 994ms/step - loss: 0.6537 - acc: 0.5990 - val_loss: 0.6202 - val_acc: 0.6630\n",
      "Epoch 5/20\n",
      "100/100 [==============================] - 101s 1s/step - loss: 0.6347 - acc: 0.6450 - val_loss: 0.5994 - val_acc: 0.6790\n",
      "Epoch 6/20\n",
      "100/100 [==============================] - 100s 997ms/step - loss: 0.6217 - acc: 0.6575 - val_loss: 0.5933 - val_acc: 0.6860\n",
      "Epoch 7/20\n",
      "100/100 [==============================] - 103s 1s/step - loss: 0.6101 - acc: 0.6550 - val_loss: 0.5684 - val_acc: 0.6950\n",
      "Epoch 8/20\n",
      "100/100 [==============================] - 111s 1s/step - loss: 0.6076 - acc: 0.6750 - val_loss: 0.5746 - val_acc: 0.6870\n",
      "Epoch 9/20\n",
      "100/100 [==============================] - 106s 1s/step - loss: 0.5849 - acc: 0.6925 - val_loss: 0.5716 - val_acc: 0.6980\n",
      "Epoch 10/20\n",
      "100/100 [==============================] - 100s 994ms/step - loss: 0.5768 - acc: 0.6915 - val_loss: 0.5837 - val_acc: 0.6770\n",
      "Epoch 11/20\n",
      "100/100 [==============================] - 96s 962ms/step - loss: 0.5821 - acc: 0.6960 - val_loss: 0.5767 - val_acc: 0.6810\n",
      "Epoch 12/20\n",
      "100/100 [==============================] - 97s 972ms/step - loss: 0.5743 - acc: 0.6955 - val_loss: 0.5411 - val_acc: 0.7140\n",
      "Epoch 13/20\n",
      "100/100 [==============================] - 97s 970ms/step - loss: 0.5744 - acc: 0.6920 - val_loss: 0.6167 - val_acc: 0.6710\n",
      "Epoch 14/20\n",
      "100/100 [==============================] - 96s 960ms/step - loss: 0.5507 - acc: 0.7240 - val_loss: 0.6268 - val_acc: 0.6520\n",
      "Epoch 15/20\n",
      "100/100 [==============================] - 95s 953ms/step - loss: 0.5597 - acc: 0.7035 - val_loss: 0.5359 - val_acc: 0.7210\n",
      "Epoch 16/20\n",
      "100/100 [==============================] - 100s 995ms/step - loss: 0.5574 - acc: 0.7060 - val_loss: 0.5118 - val_acc: 0.7480\n",
      "Epoch 17/20\n",
      "100/100 [==============================] - 103s 1s/step - loss: 0.5528 - acc: 0.7275 - val_loss: 0.5098 - val_acc: 0.7530\n",
      "Epoch 18/20\n",
      "100/100 [==============================] - 105s 1s/step - loss: 0.5355 - acc: 0.7325 - val_loss: 0.5231 - val_acc: 0.7230\n",
      "Epoch 19/20\n",
      "100/100 [==============================] - 107s 1s/step - loss: 0.5444 - acc: 0.7230 - val_loss: 0.5097 - val_acc: 0.7360\n",
      "Epoch 20/20\n",
      "100/100 [==============================] - 116s 1s/step - loss: 0.5322 - acc: 0.7315 - val_loss: 0.4963 - val_acc: 0.7530\n"
     ]
    }
   ],
   "source": [
    "model_history=model.fit_generator(train_generator,steps_per_epoch=100,epochs=20,validation_data=valid_generator,validation_steps=50)"
   ]
  },
  {
   "cell_type": "code",
   "execution_count": 17,
   "metadata": {},
   "outputs": [],
   "source": [
    "model.save(\"aug-model.h5\")"
   ]
  },
  {
   "cell_type": "code",
   "execution_count": 25,
   "metadata": {},
   "outputs": [
    {
     "ename": "NameError",
     "evalue": "name 'model' is not defined",
     "output_type": "error",
     "traceback": [
      "\u001b[1;31m---------------------------------------------------------------------------\u001b[0m",
      "\u001b[1;31mNameError\u001b[0m                                 Traceback (most recent call last)",
      "\u001b[1;32mC:\\Users\\ADITYA~1\\AppData\\Local\\Temp/ipykernel_8764/1983490010.py\u001b[0m in \u001b[0;36m<module>\u001b[1;34m\u001b[0m\n\u001b[1;32m----> 1\u001b[1;33m \u001b[1;32mdel\u001b[0m \u001b[0mmodel\u001b[0m\u001b[1;33m\u001b[0m\u001b[1;33m\u001b[0m\u001b[0m\n\u001b[0m\u001b[0;32m      2\u001b[0m \u001b[0mk\u001b[0m\u001b[1;33m.\u001b[0m\u001b[0mclear_session\u001b[0m\u001b[1;33m(\u001b[0m\u001b[1;33m)\u001b[0m\u001b[1;33m\u001b[0m\u001b[1;33m\u001b[0m\u001b[0m\n",
      "\u001b[1;31mNameError\u001b[0m: name 'model' is not defined"
     ]
    }
   ],
   "source": [
    "del model\n",
    "k.clear_session()"
   ]
  },
  {
   "cell_type": "code",
   "execution_count": 18,
   "metadata": {},
   "outputs": [
    {
     "data": {
      "image/png": "[encoded data removed]",
      "text/plain": [
       "<Figure size 576x360 with 1 Axes>"
      ]
     },
     "metadata": {
      "needs_background": "light"
     },
     "output_type": "display_data"
    }
   ],
   "source": [
    "pd.DataFrame(model_history.history).plot(figsize=(8,5))\n",
    "plt.grid(True)\n",
    "plt.gca().set_ylim(0,1)\n",
    "plt.show()"
   ]
  },
  {
   "cell_type": "code",
   "execution_count": 32,
   "metadata": {},
   "outputs": [],
   "source": [
    "model=models.load_model(\"aug-model.h5\")"
   ]
  },
  {
   "cell_type": "code",
   "execution_count": 35,
   "metadata": {},
   "outputs": [
    {
     "name": "stdout",
     "output_type": "stream",
     "text": [
      "50/50 [==============================] - 20s 397ms/step - loss: 0.5403 - acc: 0.7280\n"
     ]
    },
    {
     "data": {
      "text/plain": [
       "[0.5402597784996033, 0.7279999852180481]"
      ]
     },
     "execution_count": 35,
     "metadata": {},
     "output_type": "execute_result"
    }
   ],
   "source": [
    "model.evaluate(test_generator,steps=50)"
   ]
  },
  {
   "cell_type": "code",
   "execution_count": 21,
   "metadata": {},
   "outputs": [
    {
     "name": "stdout",
     "output_type": "stream",
     "text": [
      "Downloading data from https://storage.googleapis.com/tensorflow/keras-applications/vgg16/vgg16_weights_tf_dim_ordering_tf_kernels_notop.h5\n",
      "58889256/58889256 [==============================] - 27s 0us/step\n"
     ]
    }
   ],
   "source": [
    "#Transfer Learning\n",
    "#VGG16\n",
    "from keras.applications import VGG16\n",
    "conv_base=VGG16(weights=\"imagenet\",include_top=False,input_shape=(150,150,3))"
   ]
  },
  {
   "cell_type": "code",
   "execution_count": 22,
   "metadata": {},
   "outputs": [
    {
     "name": "stdout",
     "output_type": "stream",
     "text": [
      "Model: \"vgg16\"\n",
      "_________________________________________________________________\n",
      " Layer (type)                Output Shape              Param #   \n",
      "=================================================================\n",
      " input_1 (InputLayer)        [(None, 150, 150, 3)]     0         \n",
      "                                                                 \n",
      " block1_conv1 (Conv2D)       (None, 150, 150, 64)      1792      \n",
      "                                                                 \n",
      " block1_conv2 (Conv2D)       (None, 150, 150, 64)      36928     \n",
      "                                                                 \n",
      " block1_pool (MaxPooling2D)  (None, 75, 75, 64)        0         \n",
      "                                                                 \n",
      " block2_conv1 (Conv2D)       (None, 75, 75, 128)       73856     \n",
      "                                                                 \n",
      " block2_conv2 (Conv2D)       (None, 75, 75, 128)       147584    \n",
      "                                                                 \n",
      " block2_pool (MaxPooling2D)  (None, 37, 37, 128)       0         \n",
      "                                                                 \n",
      " block3_conv1 (Conv2D)       (None, 37, 37, 256)       295168    \n",
      "                                                                 \n",
      " block3_conv2 (Conv2D)       (None, 37, 37, 256)       590080    \n",
      "                                                                 \n",
      " block3_conv3 (Conv2D)       (None, 37, 37, 256)       590080    \n",
      "                                                                 \n",
      " block3_pool (MaxPooling2D)  (None, 18, 18, 256)       0         \n",
      "                                                                 \n",
      " block4_conv1 (Conv2D)       (None, 18, 18, 512)       1180160   \n",
      "                                                                 \n",
      " block4_conv2 (Conv2D)       (None, 18, 18, 512)       2359808   \n",
      "                                                                 \n",
      " block4_conv3 (Conv2D)       (None, 18, 18, 512)       2359808   \n",
      "                                                                 \n",
      " block4_pool (MaxPooling2D)  (None, 9, 9, 512)         0         \n",
      "                                                                 \n",
      " block5_conv1 (Conv2D)       (None, 9, 9, 512)         2359808   \n",
      "                                                                 \n",
      " block5_conv2 (Conv2D)       (None, 9, 9, 512)         2359808   \n",
      "                                                                 \n",
      " block5_conv3 (Conv2D)       (None, 9, 9, 512)         2359808   \n",
      "                                                                 \n",
      " block5_pool (MaxPooling2D)  (None, 4, 4, 512)         0         \n",
      "                                                                 \n",
      "=================================================================\n",
      "Total params: 14,714,688\n",
      "Trainable params: 14,714,688\n",
      "Non-trainable params: 0\n",
      "_________________________________________________________________\n"
     ]
    }
   ],
   "source": [
    "conv_base.summary()"
   ]
  },
  {
   "cell_type": "code",
   "execution_count": 27,
   "metadata": {},
   "outputs": [],
   "source": [
    "model=keras.models.Sequential()\n",
    "model.add(conv_base)\n",
    "model.add(layers.Flatten())\n",
    "model.add(layers.Dense(256,activation=\"relu\"))\n",
    "model.add(layers.Dense(1,activation=\"softmax\"))"
   ]
  },
  {
   "cell_type": "code",
   "execution_count": 29,
   "metadata": {},
   "outputs": [
    {
     "name": "stderr",
     "output_type": "stream",
     "text": [
      "c:\\Users\\ADITYA SANDILYA\\AppData\\Local\\Programs\\Python\\Python39\\lib\\site-packages\\keras\\optimizers\\optimizer_v2\\rmsprop.py:135: UserWarning: The `lr` argument is deprecated, use `learning_rate` instead.\n",
      "  super(RMSprop, self).__init__(name, **kwargs)\n"
     ]
    }
   ],
   "source": [
    "model.compile(loss=\"binary_crossentropy\",optimizer=keras.optimizers.RMSprop(lr=1e-5),metrics=[\"acc\"])"
   ]
  },
  {
   "cell_type": "code",
   "execution_count": null,
   "metadata": {},
   "outputs": [],
   "source": [
    "model_history=model.fit_generator(train_generator,steps_per_epoch=100,epochs=30,validation_data=valid_generator,validation_steps=50)"
   ]
  },
  {
   "cell_type": "code",
   "execution_count": null,
   "metadata": {},
   "outputs": [],
   "source": [
    "model.evaluate(train_dir,steps=50)"
   ]
  }
 ],
 "metadata": {
  "kernelspec": {
   "display_name": "Python 3.9.4 64-bit",
   "language": "python",
   "name": "python3"
  },
  "language_info": {
   "codemirror_mode": {
    "name": "ipython",
    "version": 3
   },
   "file_extension": ".py",
   "mimetype": "text/x-python",
   "name": "python",
   "nbconvert_exporter": "python",
   "pygments_lexer": "ipython3",
   "version": "3.9.4"
  },
  "orig_nbformat": 4,
  "vscode": {
   "interpreter": {
    "hash": "4b0dd26e16cfc902a45dc514003667a6b9410f7d01a5976c1941f49e6b5111bc"
   }
  }
 },
 "nbformat": 4,
 "nbformat_minor": 2
}
